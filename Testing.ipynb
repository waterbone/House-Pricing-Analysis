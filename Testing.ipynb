{
 "cells": [
  {
   "cell_type": "code",
   "execution_count": 6,
   "id": "3a92219f-e8e7-4fc0-8e6f-4bf262184802",
   "metadata": {},
   "outputs": [
    {
     "name": "stdout",
     "output_type": "stream",
     "text": [
      "Requirement already satisfied: numpy in /opt/conda/lib/python3.11/site-packages (1.24.4)\n",
      "Requirement already satisfied: pandas in /opt/conda/lib/python3.11/site-packages (2.1.1)\n",
      "Requirement already satisfied: matplotlib in /opt/conda/lib/python3.11/site-packages (3.8.0)\n",
      "Requirement already satisfied: scikit-learn in /opt/conda/lib/python3.11/site-packages (1.3.1)\n",
      "Requirement already satisfied: seaborn in /opt/conda/lib/python3.11/site-packages (0.13.0)\n",
      "Collecting imbalanced-learn\n",
      "  Downloading imbalanced_learn-0.12.3-py3-none-any.whl.metadata (8.3 kB)\n",
      "Requirement already satisfied: python-dateutil>=2.8.2 in /opt/conda/lib/python3.11/site-packages (from pandas) (2.8.2)\n",
      "Requirement already satisfied: pytz>=2020.1 in /opt/conda/lib/python3.11/site-packages (from pandas) (2023.3.post1)\n",
      "Requirement already satisfied: tzdata>=2022.1 in /opt/conda/lib/python3.11/site-packages (from pandas) (2023.3)\n",
      "Requirement already satisfied: contourpy>=1.0.1 in /opt/conda/lib/python3.11/site-packages (from matplotlib) (1.1.1)\n",
      "Requirement already satisfied: cycler>=0.10 in /opt/conda/lib/python3.11/site-packages (from matplotlib) (0.12.1)\n",
      "Requirement already satisfied: fonttools>=4.22.0 in /opt/conda/lib/python3.11/site-packages (from matplotlib) (4.43.1)\n",
      "Requirement already satisfied: kiwisolver>=1.0.1 in /opt/conda/lib/python3.11/site-packages (from matplotlib) (1.4.5)\n",
      "Requirement already satisfied: packaging>=20.0 in /opt/conda/lib/python3.11/site-packages (from matplotlib) (23.2)\n",
      "Requirement already satisfied: pillow>=6.2.0 in /opt/conda/lib/python3.11/site-packages (from matplotlib) (10.1.0)\n",
      "Requirement already satisfied: pyparsing>=2.3.1 in /opt/conda/lib/python3.11/site-packages (from matplotlib) (3.1.1)\n",
      "Requirement already satisfied: scipy>=1.5.0 in /opt/conda/lib/python3.11/site-packages (from scikit-learn) (1.11.3)\n",
      "Requirement already satisfied: joblib>=1.1.1 in /opt/conda/lib/python3.11/site-packages (from scikit-learn) (1.3.2)\n",
      "Requirement already satisfied: threadpoolctl>=2.0.0 in /opt/conda/lib/python3.11/site-packages (from scikit-learn) (3.2.0)\n",
      "Requirement already satisfied: six>=1.5 in /opt/conda/lib/python3.11/site-packages (from python-dateutil>=2.8.2->pandas) (1.16.0)\n",
      "Downloading imbalanced_learn-0.12.3-py3-none-any.whl (258 kB)\n",
      "\u001b[2K   \u001b[90m━━━━━━━━━━━━━━━━━━━━━━━━━━━━━━━━━━━━━━━━\u001b[0m \u001b[32m258.3/258.3 kB\u001b[0m \u001b[31m1.6 MB/s\u001b[0m eta \u001b[36m0:00:00\u001b[0ma \u001b[36m0:00:01\u001b[0m\n",
      "\u001b[?25hInstalling collected packages: imbalanced-learn\n",
      "Successfully installed imbalanced-learn-0.12.3\n",
      "Note: you may need to restart the kernel to use updated packages.\n"
     ]
    }
   ],
   "source": [
    "pip install numpy pandas matplotlib scikit-learn seaborn imbalanced-learn"
   ]
  },
  {
   "cell_type": "code",
   "execution_count": 1,
   "id": "1a2582d8-81b0-40b5-8e45-9ab95f95e874",
   "metadata": {},
   "outputs": [],
   "source": [
    "import numpy as np\n",
    "import pandas as pd\n",
    "import matplotlib.pyplot as plt\n",
    "from sklearn.model_selection import train_test_split\n",
    "from sklearn.linear_model import LinearRegression, LogisticRegression\n",
    "from sklearn.metrics import mean_squared_error, r2_score, accuracy_score, confusion_matrix, classification_report, log_loss, precision_score, recall_score, f1_score\n",
    "import seaborn as sns\n",
    "from imblearn.over_sampling import SMOTE\n",
    "from sklearn.datasets import make_classification\n",
    "\n",
    "from sklearn.neighbors import KNeighborsClassifier\n",
    "from sklearn.naive_bayes import GaussianNB\n",
    "from sklearn.tree import DecisionTreeClassifier\n",
    "from sklearn.ensemble import RandomForestClassifier"
   ]
  },
  {
   "cell_type": "code",
   "execution_count": 2,
   "id": "95e28296-ee4d-4235-aaba-93df968eeee9",
   "metadata": {},
   "outputs": [
    {
     "name": "stdout",
     "output_type": "stream",
     "text": [
      "<class 'pandas.core.frame.DataFrame'>\n",
      "RangeIndex: 1460 entries, 0 to 1459\n",
      "Data columns (total 81 columns):\n",
      " #   Column         Non-Null Count  Dtype  \n",
      "---  ------         --------------  -----  \n",
      " 0   Id             1460 non-null   int64  \n",
      " 1   MSSubClass     1460 non-null   int64  \n",
      " 2   MSZoning       1460 non-null   object \n",
      " 3   LotFrontage    1201 non-null   float64\n",
      " 4   LotArea        1460 non-null   int64  \n",
      " 5   Street         1460 non-null   object \n",
      " 6   Alley          91 non-null     object \n",
      " 7   LotShape       1460 non-null   object \n",
      " 8   LandContour    1460 non-null   object \n",
      " 9   Utilities      1460 non-null   object \n",
      " 10  LotConfig      1460 non-null   object \n",
      " 11  LandSlope      1460 non-null   object \n",
      " 12  Neighborhood   1460 non-null   object \n",
      " 13  Condition1     1460 non-null   object \n",
      " 14  Condition2     1460 non-null   object \n",
      " 15  BldgType       1460 non-null   object \n",
      " 16  HouseStyle     1460 non-null   object \n",
      " 17  OverallQual    1460 non-null   int64  \n",
      " 18  OverallCond    1460 non-null   int64  \n",
      " 19  YearBuilt      1460 non-null   int64  \n",
      " 20  YearRemodAdd   1460 non-null   int64  \n",
      " 21  RoofStyle      1460 non-null   object \n",
      " 22  RoofMatl       1460 non-null   object \n",
      " 23  Exterior1st    1460 non-null   object \n",
      " 24  Exterior2nd    1460 non-null   object \n",
      " 25  MasVnrType     588 non-null    object \n",
      " 26  MasVnrArea     1452 non-null   float64\n",
      " 27  ExterQual      1460 non-null   object \n",
      " 28  ExterCond      1460 non-null   object \n",
      " 29  Foundation     1460 non-null   object \n",
      " 30  BsmtQual       1423 non-null   object \n",
      " 31  BsmtCond       1423 non-null   object \n",
      " 32  BsmtExposure   1422 non-null   object \n",
      " 33  BsmtFinType1   1423 non-null   object \n",
      " 34  BsmtFinSF1     1460 non-null   int64  \n",
      " 35  BsmtFinType2   1422 non-null   object \n",
      " 36  BsmtFinSF2     1460 non-null   int64  \n",
      " 37  BsmtUnfSF      1460 non-null   int64  \n",
      " 38  TotalBsmtSF    1460 non-null   int64  \n",
      " 39  Heating        1460 non-null   object \n",
      " 40  HeatingQC      1460 non-null   object \n",
      " 41  CentralAir     1460 non-null   object \n",
      " 42  Electrical     1459 non-null   object \n",
      " 43  1stFlrSF       1460 non-null   int64  \n",
      " 44  2ndFlrSF       1460 non-null   int64  \n",
      " 45  LowQualFinSF   1460 non-null   int64  \n",
      " 46  GrLivArea      1460 non-null   int64  \n",
      " 47  BsmtFullBath   1460 non-null   int64  \n",
      " 48  BsmtHalfBath   1460 non-null   int64  \n",
      " 49  FullBath       1460 non-null   int64  \n",
      " 50  HalfBath       1460 non-null   int64  \n",
      " 51  BedroomAbvGr   1460 non-null   int64  \n",
      " 52  KitchenAbvGr   1460 non-null   int64  \n",
      " 53  KitchenQual    1460 non-null   object \n",
      " 54  TotRmsAbvGrd   1460 non-null   int64  \n",
      " 55  Functional     1460 non-null   object \n",
      " 56  Fireplaces     1460 non-null   int64  \n",
      " 57  FireplaceQu    770 non-null    object \n",
      " 58  GarageType     1379 non-null   object \n",
      " 59  GarageYrBlt    1379 non-null   float64\n",
      " 60  GarageFinish   1379 non-null   object \n",
      " 61  GarageCars     1460 non-null   int64  \n",
      " 62  GarageArea     1460 non-null   int64  \n",
      " 63  GarageQual     1379 non-null   object \n",
      " 64  GarageCond     1379 non-null   object \n",
      " 65  PavedDrive     1460 non-null   object \n",
      " 66  WoodDeckSF     1460 non-null   int64  \n",
      " 67  OpenPorchSF    1460 non-null   int64  \n",
      " 68  EnclosedPorch  1460 non-null   int64  \n",
      " 69  3SsnPorch      1460 non-null   int64  \n",
      " 70  ScreenPorch    1460 non-null   int64  \n",
      " 71  PoolArea       1460 non-null   int64  \n",
      " 72  PoolQC         7 non-null      object \n",
      " 73  Fence          281 non-null    object \n",
      " 74  MiscFeature    54 non-null     object \n",
      " 75  MiscVal        1460 non-null   int64  \n",
      " 76  MoSold         1460 non-null   int64  \n",
      " 77  YrSold         1460 non-null   int64  \n",
      " 78  SaleType       1460 non-null   object \n",
      " 79  SaleCondition  1460 non-null   object \n",
      " 80  SalePrice      1460 non-null   int64  \n",
      "dtypes: float64(3), int64(35), object(43)\n",
      "memory usage: 924.0+ KB\n"
     ]
    }
   ],
   "source": [
    "df = pd.read_csv('House-Prices-Advanced-Regression.csv')\n",
    "df.info()"
   ]
  },
  {
   "cell_type": "code",
   "execution_count": 3,
   "id": "7104f3cc-7a12-425c-a8dc-157ecf2d5e28",
   "metadata": {},
   "outputs": [
    {
     "name": "stdout",
     "output_type": "stream",
     "text": [
      "Id                 0\n",
      "MSSubClass         0\n",
      "MSZoning           0\n",
      "LotFrontage      259\n",
      "LotArea            0\n",
      "                ... \n",
      "MoSold             0\n",
      "YrSold             0\n",
      "SaleType           0\n",
      "SaleCondition      0\n",
      "SalePrice          0\n",
      "Length: 81, dtype: int64\n"
     ]
    }
   ],
   "source": [
    "# mencari missing value\n",
    "print(df.isna().sum())"
   ]
  },
  {
   "cell_type": "code",
   "execution_count": 4,
   "id": "19b37e13-cd5c-4c34-8b8b-8344a5d01dad",
   "metadata": {},
   "outputs": [
    {
     "data": {
      "text/plain": [
       "{'SalePrice': SalePrice\n",
       " 140000    20\n",
       " 135000    17\n",
       " 155000    14\n",
       " 145000    14\n",
       " 190000    13\n",
       "           ..\n",
       " 83500      1\n",
       " 252000     1\n",
       " 92900      1\n",
       " 176432     1\n",
       " 147500     1\n",
       " Name: count, Length: 663, dtype: int64,\n",
       " 'YrSold': YrSold\n",
       " 2009    338\n",
       " 2007    329\n",
       " 2006    314\n",
       " 2008    304\n",
       " 2010    175\n",
       " Name: count, dtype: int64}"
      ]
     },
     "execution_count": 4,
     "metadata": {},
     "output_type": "execute_result"
    }
   ],
   "source": [
    "frequencies = {}\n",
    "# for column in df.columns:\n",
    "#     frequencies[column] = df[column].value_counts().sort_values(ascending = False)\n",
    "# frequencies\n",
    "\n",
    "for column in df[['SalePrice', 'YrSold']]:\n",
    "    frequencies[column] = df[column].value_counts().sort_values(ascending = False)\n",
    "frequencies"
   ]
  },
  {
   "cell_type": "code",
   "execution_count": 5,
   "id": "10e2c0b5-1727-42bd-acbc-f554be36f20c",
   "metadata": {},
   "outputs": [
    {
     "name": "stdout",
     "output_type": "stream",
     "text": [
      "jumlah nilai kosong LotFrontage: 0 \n",
      "\n"
     ]
    }
   ],
   "source": [
    "# Mengisi nilai yang hilang\n",
    "isi_mv = df['LotFrontage'].fillna(df['LotFrontage'].mean(), inplace = False)\n",
    "isi_mv = df['LotFrontage'].fillna(df['LotFrontage'].median(), inplace = False)\n",
    "isi_mv = df['LotFrontage'].fillna(df['LotFrontage'].mode()[0], inplace = False)\n",
    "print('jumlah nilai kosong LotFrontage:', isi_mv.isna().sum(), '\\n')"
   ]
  },
  {
   "cell_type": "code",
   "execution_count": 6,
   "id": "4fb3ddba-f19a-4fe7-8fbe-13f6f8080c77",
   "metadata": {},
   "outputs": [
    {
     "name": "stdout",
     "output_type": "stream",
     "text": [
      "Baris duplikat:\n",
      " Series([], dtype: bool)\n"
     ]
    }
   ],
   "source": [
    "# Mencari duplikat data\n",
    "# duplikat = df.duplicated()\n",
    "# print(\"Baris duplikat:\\n\", duplikat)\n",
    "duplikat = df.duplicated()[df.duplicated() == True]\n",
    "print(\"Baris duplikat:\\n\", duplikat)"
   ]
  },
  {
   "cell_type": "code",
   "execution_count": 7,
   "id": "5b4ab56d-293c-4c16-8402-eac94e3c2263",
   "metadata": {},
   "outputs": [
    {
     "name": "stdout",
     "output_type": "stream",
     "text": [
      "DataFrame setelah menghapus duplikat:\n",
      "         Id  MSSubClass MSZoning  LotFrontage  LotArea Street Alley LotShape  \\\n",
      "0        1          60       RL         65.0     8450   Pave   NaN      Reg   \n",
      "1        2          20       RL         80.0     9600   Pave   NaN      Reg   \n",
      "2        3          60       RL         68.0    11250   Pave   NaN      IR1   \n",
      "3        4          70       RL         60.0     9550   Pave   NaN      IR1   \n",
      "4        5          60       RL         84.0    14260   Pave   NaN      IR1   \n",
      "...    ...         ...      ...          ...      ...    ...   ...      ...   \n",
      "1455  1456          60       RL         62.0     7917   Pave   NaN      Reg   \n",
      "1456  1457          20       RL         85.0    13175   Pave   NaN      Reg   \n",
      "1457  1458          70       RL         66.0     9042   Pave   NaN      Reg   \n",
      "1458  1459          20       RL         68.0     9717   Pave   NaN      Reg   \n",
      "1459  1460          20       RL         75.0     9937   Pave   NaN      Reg   \n",
      "\n",
      "     LandContour Utilities  ... PoolArea PoolQC  Fence MiscFeature MiscVal  \\\n",
      "0            Lvl    AllPub  ...        0    NaN    NaN         NaN       0   \n",
      "1            Lvl    AllPub  ...        0    NaN    NaN         NaN       0   \n",
      "2            Lvl    AllPub  ...        0    NaN    NaN         NaN       0   \n",
      "3            Lvl    AllPub  ...        0    NaN    NaN         NaN       0   \n",
      "4            Lvl    AllPub  ...        0    NaN    NaN         NaN       0   \n",
      "...          ...       ...  ...      ...    ...    ...         ...     ...   \n",
      "1455         Lvl    AllPub  ...        0    NaN    NaN         NaN       0   \n",
      "1456         Lvl    AllPub  ...        0    NaN  MnPrv         NaN       0   \n",
      "1457         Lvl    AllPub  ...        0    NaN  GdPrv        Shed    2500   \n",
      "1458         Lvl    AllPub  ...        0    NaN    NaN         NaN       0   \n",
      "1459         Lvl    AllPub  ...        0    NaN    NaN         NaN       0   \n",
      "\n",
      "     MoSold YrSold  SaleType  SaleCondition  SalePrice  \n",
      "0         2   2008        WD         Normal     208500  \n",
      "1         5   2007        WD         Normal     181500  \n",
      "2         9   2008        WD         Normal     223500  \n",
      "3         2   2006        WD        Abnorml     140000  \n",
      "4        12   2008        WD         Normal     250000  \n",
      "...     ...    ...       ...            ...        ...  \n",
      "1455      8   2007        WD         Normal     175000  \n",
      "1456      2   2010        WD         Normal     210000  \n",
      "1457      5   2010        WD         Normal     266500  \n",
      "1458      4   2010        WD         Normal     142125  \n",
      "1459      6   2008        WD         Normal     147500  \n",
      "\n",
      "[1460 rows x 81 columns]\n"
     ]
    }
   ],
   "source": [
    "# Menghapus duplikat data\n",
    "hapus_duplikat = df.drop_duplicates()\n",
    "print(\"DataFrame setelah menghapus duplikat:\\n\", hapus_duplikat)"
   ]
  },
  {
   "cell_type": "code",
   "execution_count": 8,
   "id": "59a802a2-fc22-464d-ad87-42bc00685456",
   "metadata": {},
   "outputs": [
    {
     "data": {
      "text/plain": [
       "(      MSSubClass\n",
       " 0             60\n",
       " 1             20\n",
       " 2             60\n",
       " 3             70\n",
       " 4             60\n",
       " ...          ...\n",
       " 1455          60\n",
       " 1456          20\n",
       " 1457          70\n",
       " 1458          20\n",
       " 1459          20\n",
       " \n",
       " [1460 rows x 1 columns],\n",
       " 0       208500\n",
       " 1       181500\n",
       " 2       223500\n",
       " 3       140000\n",
       " 4       250000\n",
       "          ...  \n",
       " 1455    175000\n",
       " 1456    210000\n",
       " 1457    266500\n",
       " 1458    142125\n",
       " 1459    147500\n",
       " Name: SalePrice, Length: 1460, dtype: int64)"
      ]
     },
     "execution_count": 8,
     "metadata": {},
     "output_type": "execute_result"
    }
   ],
   "source": [
    "X, y = df.iloc[:, [1]], df.iloc[:, 80]\n",
    "X, y"
   ]
  },
  {
   "cell_type": "code",
   "execution_count": 9,
   "id": "1bc4d1e4-889a-40ae-91bc-c3e594b0ceca",
   "metadata": {},
   "outputs": [],
   "source": [
    "X_train, X_test, y_train, y_test = train_test_split(X, y, test_size = 0.2, random_state = 42)"
   ]
  },
  {
   "cell_type": "code",
   "execution_count": 10,
   "id": "61b7577a-5932-436d-9b24-35beefecc26d",
   "metadata": {},
   "outputs": [
    {
     "data": {
      "text/html": [
       "<style>#sk-container-id-1 {color: black;}#sk-container-id-1 pre{padding: 0;}#sk-container-id-1 div.sk-toggleable {background-color: white;}#sk-container-id-1 label.sk-toggleable__label {cursor: pointer;display: block;width: 100%;margin-bottom: 0;padding: 0.3em;box-sizing: border-box;text-align: center;}#sk-container-id-1 label.sk-toggleable__label-arrow:before {content: \"▸\";float: left;margin-right: 0.25em;color: #696969;}#sk-container-id-1 label.sk-toggleable__label-arrow:hover:before {color: black;}#sk-container-id-1 div.sk-estimator:hover label.sk-toggleable__label-arrow:before {color: black;}#sk-container-id-1 div.sk-toggleable__content {max-height: 0;max-width: 0;overflow: hidden;text-align: left;background-color: #f0f8ff;}#sk-container-id-1 div.sk-toggleable__content pre {margin: 0.2em;color: black;border-radius: 0.25em;background-color: #f0f8ff;}#sk-container-id-1 input.sk-toggleable__control:checked~div.sk-toggleable__content {max-height: 200px;max-width: 100%;overflow: auto;}#sk-container-id-1 input.sk-toggleable__control:checked~label.sk-toggleable__label-arrow:before {content: \"▾\";}#sk-container-id-1 div.sk-estimator input.sk-toggleable__control:checked~label.sk-toggleable__label {background-color: #d4ebff;}#sk-container-id-1 div.sk-label input.sk-toggleable__control:checked~label.sk-toggleable__label {background-color: #d4ebff;}#sk-container-id-1 input.sk-hidden--visually {border: 0;clip: rect(1px 1px 1px 1px);clip: rect(1px, 1px, 1px, 1px);height: 1px;margin: -1px;overflow: hidden;padding: 0;position: absolute;width: 1px;}#sk-container-id-1 div.sk-estimator {font-family: monospace;background-color: #f0f8ff;border: 1px dotted black;border-radius: 0.25em;box-sizing: border-box;margin-bottom: 0.5em;}#sk-container-id-1 div.sk-estimator:hover {background-color: #d4ebff;}#sk-container-id-1 div.sk-parallel-item::after {content: \"\";width: 100%;border-bottom: 1px solid gray;flex-grow: 1;}#sk-container-id-1 div.sk-label:hover label.sk-toggleable__label {background-color: #d4ebff;}#sk-container-id-1 div.sk-serial::before {content: \"\";position: absolute;border-left: 1px solid gray;box-sizing: border-box;top: 0;bottom: 0;left: 50%;z-index: 0;}#sk-container-id-1 div.sk-serial {display: flex;flex-direction: column;align-items: center;background-color: white;padding-right: 0.2em;padding-left: 0.2em;position: relative;}#sk-container-id-1 div.sk-item {position: relative;z-index: 1;}#sk-container-id-1 div.sk-parallel {display: flex;align-items: stretch;justify-content: center;background-color: white;position: relative;}#sk-container-id-1 div.sk-item::before, #sk-container-id-1 div.sk-parallel-item::before {content: \"\";position: absolute;border-left: 1px solid gray;box-sizing: border-box;top: 0;bottom: 0;left: 50%;z-index: -1;}#sk-container-id-1 div.sk-parallel-item {display: flex;flex-direction: column;z-index: 1;position: relative;background-color: white;}#sk-container-id-1 div.sk-parallel-item:first-child::after {align-self: flex-end;width: 50%;}#sk-container-id-1 div.sk-parallel-item:last-child::after {align-self: flex-start;width: 50%;}#sk-container-id-1 div.sk-parallel-item:only-child::after {width: 0;}#sk-container-id-1 div.sk-dashed-wrapped {border: 1px dashed gray;margin: 0 0.4em 0.5em 0.4em;box-sizing: border-box;padding-bottom: 0.4em;background-color: white;}#sk-container-id-1 div.sk-label label {font-family: monospace;font-weight: bold;display: inline-block;line-height: 1.2em;}#sk-container-id-1 div.sk-label-container {text-align: center;}#sk-container-id-1 div.sk-container {/* jupyter's `normalize.less` sets `[hidden] { display: none; }` but bootstrap.min.css set `[hidden] { display: none !important; }` so we also need the `!important` here to be able to override the default hidden behavior on the sphinx rendered scikit-learn.org. See: https://github.com/scikit-learn/scikit-learn/issues/21755 */display: inline-block !important;position: relative;}#sk-container-id-1 div.sk-text-repr-fallback {display: none;}</style><div id=\"sk-container-id-1\" class=\"sk-top-container\"><div class=\"sk-text-repr-fallback\"><pre>LinearRegression()</pre><b>In a Jupyter environment, please rerun this cell to show the HTML representation or trust the notebook. <br />On GitHub, the HTML representation is unable to render, please try loading this page with nbviewer.org.</b></div><div class=\"sk-container\" hidden><div class=\"sk-item\"><div class=\"sk-estimator sk-toggleable\"><input class=\"sk-toggleable__control sk-hidden--visually\" id=\"sk-estimator-id-1\" type=\"checkbox\" checked><label for=\"sk-estimator-id-1\" class=\"sk-toggleable__label sk-toggleable__label-arrow\">LinearRegression</label><div class=\"sk-toggleable__content\"><pre>LinearRegression()</pre></div></div></div></div></div>"
      ],
      "text/plain": [
       "LinearRegression()"
      ]
     },
     "execution_count": 10,
     "metadata": {},
     "output_type": "execute_result"
    }
   ],
   "source": [
    "model_linear = LinearRegression()\n",
    "model_linear.fit(X_train, y_train)"
   ]
  },
  {
   "cell_type": "code",
   "execution_count": 11,
   "id": "9f82fbba-1304-4893-8469-155a161f4d86",
   "metadata": {},
   "outputs": [
    {
     "data": {
      "text/plain": [
       "array([187337.76958219, 180937.40353015, 185737.67806918, 182537.49504316,\n",
       "       187337.76958219, 161736.30537403, 182537.49504316, 164936.48840005,\n",
       "       161736.30537403, 182537.49504316, 182537.49504316, 187337.76958219,\n",
       "       185737.67806918, 187337.76958219, 180937.40353015, 187337.76958219,\n",
       "       180937.40353015, 187337.76958219, 185737.67806918, 187337.76958219,\n",
       "       187337.76958219, 180937.40353015, 180937.40353015, 187337.76958219,\n",
       "       187337.76958219, 171336.85445209, 187337.76958219, 187337.76958219,\n",
       "       180937.40353015, 171336.85445209, 182537.49504316, 180937.40353015,\n",
       "       182537.49504316, 187337.76958219, 187337.76958219, 187337.76958219,\n",
       "       182537.49504316, 180937.40353015, 180937.40353015, 187337.76958219,\n",
       "       182537.49504316, 180937.40353015, 187337.76958219, 187337.76958219,\n",
       "       187337.76958219, 179337.31201714, 187337.76958219, 187337.76958219,\n",
       "       180937.40353015, 182537.49504316, 187337.76958219, 187337.76958219,\n",
       "       164936.48840005, 187337.76958219, 171336.85445209, 187337.76958219,\n",
       "       180937.40353015, 187337.76958219, 177737.22050413, 187337.76958219,\n",
       "       185737.67806918, 187337.76958219, 180937.40353015, 187337.76958219,\n",
       "       187337.76958219, 187337.76958219, 182537.49504316, 180937.40353015,\n",
       "       187337.76958219, 164936.48840005, 176137.12899112, 187337.76958219,\n",
       "       187337.76958219, 176137.12899112, 187337.76958219, 171336.85445209,\n",
       "       180937.40353015, 180937.40353015, 187337.76958219, 187337.76958219,\n",
       "       164936.48840005, 185737.67806918, 187337.76958219, 185737.67806918,\n",
       "       180937.40353015, 182537.49504316, 180937.40353015, 171336.85445209,\n",
       "       171336.85445209, 180937.40353015, 185737.67806918, 180937.40353015,\n",
       "       187337.76958219, 180937.40353015, 176137.12899112, 187337.76958219,\n",
       "       182537.49504316, 164936.48840005, 187337.76958219, 180937.40353015,\n",
       "       187337.76958219, 180937.40353015, 187337.76958219, 183337.54079966,\n",
       "       177737.22050413, 187337.76958219, 187337.76958219, 171336.85445209,\n",
       "       187337.76958219, 180937.40353015, 185737.67806918, 187337.76958219,\n",
       "       187337.76958219, 179337.31201714, 180937.40353015, 185737.67806918,\n",
       "       187337.76958219, 187337.76958219, 176137.12899112, 187337.76958219,\n",
       "       171336.85445209, 171336.85445209, 180937.40353015, 182537.49504316,\n",
       "       187337.76958219, 187337.76958219, 180937.40353015, 184137.58655617,\n",
       "       187337.76958219, 180937.40353015, 180937.40353015, 187337.76958219,\n",
       "       180937.40353015, 178537.26626063, 187337.76958219, 187337.76958219,\n",
       "       171336.85445209, 187337.76958219, 187337.76958219, 180937.40353015,\n",
       "       180937.40353015, 187337.76958219, 180937.40353015, 182537.49504316,\n",
       "       160136.21386102, 176937.17474762, 182537.49504316, 187337.76958219,\n",
       "       176937.17474762, 185737.67806918, 185737.67806918, 180937.40353015,\n",
       "       187337.76958219, 176137.12899112, 185737.67806918, 176137.12899112,\n",
       "       176137.12899112, 187337.76958219, 185737.67806918, 187337.76958219,\n",
       "       187337.76958219, 176137.12899112, 187337.76958219, 187337.76958219,\n",
       "       182537.49504316, 176137.12899112, 180937.40353015, 180937.40353015,\n",
       "       180937.40353015, 179337.31201714, 187337.76958219, 183337.54079966,\n",
       "       182537.49504316, 164936.48840005, 182537.49504316, 182537.49504316,\n",
       "       182537.49504316, 182537.49504316, 182537.49504316, 164936.48840005,\n",
       "       177737.22050413, 187337.76958219, 177737.22050413, 180937.40353015,\n",
       "       180937.40353015, 179337.31201714, 187337.76958219, 171336.85445209,\n",
       "       171336.85445209, 164936.48840005, 164936.48840005, 185737.67806918,\n",
       "       182537.49504316, 177737.22050413, 171336.85445209, 187337.76958219,\n",
       "       171336.85445209, 179337.31201714, 164936.48840005, 182537.49504316,\n",
       "       187337.76958219, 180937.40353015, 179337.31201714, 180937.40353015,\n",
       "       187337.76958219, 177737.22050413, 180937.40353015, 187337.76958219,\n",
       "       182537.49504316, 187337.76958219, 180937.40353015, 187337.76958219,\n",
       "       187337.76958219, 164936.48840005, 187337.76958219, 187337.76958219,\n",
       "       171336.85445209, 177737.22050413, 177737.22050413, 176137.12899112,\n",
       "       187337.76958219, 171336.85445209, 187337.76958219, 182537.49504316,\n",
       "       187337.76958219, 187337.76958219, 182537.49504316, 185737.67806918,\n",
       "       180937.40353015, 182537.49504316, 187337.76958219, 180937.40353015,\n",
       "       187337.76958219, 187337.76958219, 180937.40353015, 179337.31201714,\n",
       "       187337.76958219, 176937.17474762, 180937.40353015, 171336.85445209,\n",
       "       185737.67806918, 177737.22050413, 180937.40353015, 180937.40353015,\n",
       "       180937.40353015, 160136.21386102, 177737.22050413, 187337.76958219,\n",
       "       171336.85445209, 187337.76958219, 180937.40353015, 177737.22050413,\n",
       "       182537.49504316, 185737.67806918, 187337.76958219, 171336.85445209,\n",
       "       182537.49504316, 164936.48840005, 180937.40353015, 180937.40353015,\n",
       "       187337.76958219, 187337.76958219, 187337.76958219, 177737.22050413,\n",
       "       187337.76958219, 180937.40353015, 171336.85445209, 171336.85445209,\n",
       "       187337.76958219, 177737.22050413, 187337.76958219, 171336.85445209,\n",
       "       180937.40353015, 164936.48840005, 176137.12899112, 187337.76958219,\n",
       "       164936.48840005, 171336.85445209, 187337.76958219, 182537.49504316,\n",
       "       180937.40353015, 161736.30537403, 180937.40353015, 185737.67806918,\n",
       "       187337.76958219, 187337.76958219, 180937.40353015, 185737.67806918,\n",
       "       187337.76958219, 180937.40353015, 179337.31201714, 187337.76958219])"
      ]
     },
     "execution_count": 11,
     "metadata": {},
     "output_type": "execute_result"
    }
   ],
   "source": [
    "y_pred = model_linear.predict(X_test)\n",
    "y_pred"
   ]
  },
  {
   "cell_type": "code",
   "execution_count": 12,
   "id": "535738cf-2953-4aec-9e0c-16cacccf39f9",
   "metadata": {},
   "outputs": [
    {
     "name": "stdout",
     "output_type": "stream",
     "text": [
      "Mean Squared Error: 7638170715.295007\n"
     ]
    }
   ],
   "source": [
    "# Mean Squared Error (MSE)\n",
    "mse = mean_squared_error(y_test, y_pred)\n",
    "print(f'Mean Squared Error: {mse}')"
   ]
  },
  {
   "cell_type": "code",
   "execution_count": 13,
   "id": "3cb28431-92c6-4929-aeda-ea340a41fcf8",
   "metadata": {},
   "outputs": [
    {
     "name": "stdout",
     "output_type": "stream",
     "text": [
      "R-squared: 0.004192193529134136\n"
     ]
    }
   ],
   "source": [
    "# R-Squared (R²)\n",
    "r2 = r2_score(y_test, y_pred)\n",
    "print(f'R-squared: {r2}')"
   ]
  },
  {
   "cell_type": "code",
   "execution_count": 14,
   "id": "c220cd4b-1caf-404c-9ab0-81752c5ba81c",
   "metadata": {},
   "outputs": [
    {
     "data": {
      "image/png": "[encoded data removed]",
      "text/plain": [
       "<Figure size 640x480 with 1 Axes>"
      ]
     },
     "metadata": {},
     "output_type": "display_data"
    }
   ],
   "source": [
    "plt.scatter(X_test, y_test, color='blue', label='Actual')\n",
    "plt.plot(X_test, y_pred, color='red', linewidth = 2, label = 'Predicted')\n",
    "plt.xlabel('SubClass')\n",
    "plt.ylabel('Price')\n",
    "plt.title('Linear Regression')\n",
    "plt.legend()\n",
    "plt.show()"
   ]
  },
  {
   "cell_type": "code",
   "execution_count": null,
   "id": "53515229-2ca5-4e37-884b-7aef46792f50",
   "metadata": {},
   "outputs": [],
   "source": []
  }
 ],
 "metadata": {
  "kernelspec": {
   "display_name": "Python 3 (ipykernel)",
   "language": "python",
   "name": "python3"
  },
  "language_info": {
   "codemirror_mode": {
    "name": "ipython",
    "version": 3
   },
   "file_extension": ".py",
   "mimetype": "text/x-python",
   "name": "python",
   "nbconvert_exporter": "python",
   "pygments_lexer": "ipython3",
   "version": "3.11.6"
  }
 },
 "nbformat": 4,
 "nbformat_minor": 5
}
